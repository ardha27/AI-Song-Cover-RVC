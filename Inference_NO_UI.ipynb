{
  "nbformat": 4,
  "nbformat_minor": 0,
  "metadata": {
    "colab": {
      "private_outputs": true,
      "provenance": [],
      "gpuType": "T4",
      "include_colab_link": true
    },
    "kernelspec": {
      "name": "python3",
      "display_name": "Python 3"
    },
    "language_info": {
      "name": "python"
    },
    "accelerator": "GPU"
  },
  "cells": [
    {
      "cell_type": "markdown",
      "metadata": {
        "id": "view-in-github",
        "colab_type": "text"
      },
      "source": [
        "<a href=\"https://colab.research.google.com/github/Blane187/AI-Song-Cover-RVC/blob/main/Inference_NO_UI.ipynb\" target=\"_parent\"><img src=\"https://colab.research.google.com/assets/colab-badge.svg\" alt=\"Open In Colab\"/></a>"
      ]
    },
    {
      "cell_type": "markdown",
      "source": [
        "[![ko-fi](https://ko-fi.com/img/githubbutton_sm.svg)](https://ko-fi.com/R6R7AH1FA)\n",
        "<a href=\"https://trakteer.id/ardha27\">\n",
        "    <img src=\"https://cdn.trakteer.id/images/embed/trbtn-red-1.png\" alt=\"Trakteer\" height=\"35\">\n",
        "</a>"
      ],
      "metadata": {
        "id": "Dy2HJED2ya_i"
      }
    },
    {
      "cell_type": "code",
      "source": [
        "#@title Mount Drive\n",
        "\n",
        "from google.colab import drive\n",
        "drive.mount('/content/drive')"
      ],
      "metadata": {
        "id": "jwu07JgqoFON",
        "cellView": "form"
      },
      "execution_count": null,
      "outputs": []
    },
    {
      "cell_type": "code",
      "source": [
        "#@title Unzip File From Drive\n",
        "\n",
        "!unzip -n /content/drive/MyDrive/assets/KiwKiw.zip -d /content\n",
        "%cd /content/KiwKiw\n",
        "!pip install -r requirements.txt -q\n",
        "!pip install mega.py\n",
        "!pip install yt_dlp\n",
        "!pip install ffmpeg\n",
        "!mkdir youtubeaudio"
      ],
      "metadata": {
        "id": "ge_97mfpgqTm",
        "cellView": "form"
      },
      "execution_count": null,
      "outputs": []
    },
    {
      "cell_type": "code",
      "source": [
        "#@title Download The Model\n",
        "from mega import Mega\n",
        "import os\n",
        "import IPython.display as clear_output, display\n",
        "MODEL = \"Ardha\"  #@param {type:\"string\"}\n",
        "MODELEPOCH = ''\n",
        "url='https://huggingface.co/ardha27/RVC/resolve/main/Ardha.zip?download=true'#@param {type:\"string\"}\n",
        "MODELZIP = MODEL + '.zip'\n",
        "modelname_path='/content/zips/'+MODELZIP\n",
        "if url != '':\n",
        "  !mkdir -p /content/KiwKiw/logs/{MODEL}\n",
        "  !mkdir -p /content/zips/\n",
        "  if \"drive.google.com\" in url:\n",
        "    !gdown $url --fuzzy -O $modelname_path\n",
        "  elif \"mega.nz\" in url:\n",
        "    m = Mega()\n",
        "    m.download_url(url, '/content/zips')\n",
        "  else:\n",
        "    !wget $url -O /content/zips/{MODELZIP}\n",
        "  for filename in os.listdir(\"/content/zips\"):\n",
        "    if filename.endswith(\".zip\"):\n",
        "      zip_file = os.path.join(\"/content/zips\", filename)\n",
        "      shutil.unpack_archive(zip_file, \"/content/unzips\", 'zip')\n",
        "  #Move model into logs folder\n",
        "  for root, dirs, files in os.walk('/content/unzips'):\n",
        "    for file in files:\n",
        "      if \"G_\" in file:\n",
        "        MODELEPOCH = file.split(\"G_\")[1].split(\".\")[0]\n",
        "    if MODELEPOCH == '':\n",
        "      MODELEPOCH = '404'\n",
        "    for file in files:\n",
        "      file_path = os.path.join(root, file)\n",
        "      if file.endswith(\".npy\") or file.endswith(\".index\"):\n",
        "        !mv {file_path} /content/KiwKiw/logs/{MODEL}/\n",
        "      elif \"G_\" not in file and \"D_\" not in file and file.endswith(\".pth\"):\n",
        "        !mv {file_path} /content/KiwKiw/weights/{MODEL}.pth\n",
        "\n",
        "  !rm -r /content/unzips/\n",
        "  !rm -r /content/zips/\n",
        "  clear_output()\n",
        "  display(success)\n",
        "else:\n",
        "  print(\"URL cannot be left empty. If you don't want to download a model now, just skip this step.\")"
      ],
      "metadata": {
        "cellView": "form",
        "id": "cTPSYAPkqOxv"
      },
      "execution_count": null,
      "outputs": []
    },
    {
      "cell_type": "code",
      "source": [
        "#@title INFER NO UI\n",
        "import os\n",
        "import IPython.display as ipd\n",
        "%cd  /content/KiwKiw\n",
        "model_path = \"/content/KiwKiw/assets/weights/My-Voice.pth\"#@param {type:\"string\"}\n",
        "index_path = \"/content/KiwKiw/logs/My-Voice/added_IVF439_Flat_nprobe_1_My-Voice_v2.index\"#@param {type:\"string\"}\n",
        "from colorama import Fore\n",
        "print(Fore.GREEN + f\"{index_path} was found\") if os.path.exists(index_path) else print(Fore.RED + f\"{index_path} was not found\")\n",
        "pitch = 0 # @param {type:\"slider\", min:-12, max:12, step:1}\n",
        "input_path = \"\"#@param {type:\"string\"}\n",
        "if not os.path.exists(input_path):\n",
        "    raise ValueError(f\"{input_path} was not found in your RVC folder.\")\n",
        "os.environ['index_root']  = os.path.dirname(index_path)\n",
        "index_path = os.path.basename(index_path)\n",
        "f0_method = \"rmvpe\" # @param [\"rmvpe\", \"pm\", \"harvest\"]\n",
        "save_as = \" /content/KiwKiw/audios/cli_output.wav\"#@param {type:\"string\"}\n",
        "model_name = os.path.basename(model_path)\n",
        "os.environ['weight_root'] = os.path.dirname(model_path)\n",
        "index_rate = 0.5 # @param {type:\"slider\", min:0, max:1, step:0.01}\n",
        "volume_normalization = 0 #param {type:\"slider\", min:0, max:1, step:0.01}\n",
        "consonant_protection = 0.5 #param {type:\"slider\", min:0, max:1, step:0.01}\n",
        "\n",
        "!rm -f $save_as\n",
        "\n",
        "!python tools/cmd/infer_cli.py --f0up_key $pitch --input_path $input_path --index_path $index_path --f0method $f0_method --opt_path $save_as --model_name $model_name --index_rate $index_rate --device \"cuda:0\" --is_half True --filter_radius 3 --resample_sr 0 --rms_mix_rate $volume_normalization --protect $consonant_protection\n",
        "\n",
        "show_errors = False #@param {type:\"boolean\"}\n",
        "if not show_errors:\n",
        "    ipd.clear_output()\n",
        "ipd.Audio(save_as)"
      ],
      "metadata": {
        "cellView": "form",
        "id": "8kRCPHm1o_PZ"
      },
      "execution_count": null,
      "outputs": []
    },
    {
      "cell_type": "markdown",
      "source": [
        "# Extra"
      ],
      "metadata": {
        "id": "CFUgTiYHsNgJ"
      }
    },
    {
      "cell_type": "code",
      "source": [
        "#@title Download Youtube  Wav acapella\n",
        "\n",
        "url = \"https://youtu.be/mM08Jkne69U?si=w3QTNGF3_A910vIU\" #@param {type:\"string\"}\n",
        "AUDIO_NAME = \"STAY\" #@param {type:\"string\"}\n",
        "\n",
        "from __future__ import unicode_literals\n",
        "\n",
        "if dataset == \"Drive\":\n",
        "  print(\"Dataset is set to Drive. Skipping this section\")\n",
        "elif dataset == \"Youtube\":\n",
        "  import yt_dlp\n",
        "  import ffmpeg\n",
        "  import sys\n",
        "\n",
        "\n",
        "  ydl_opts = {\n",
        "      'format': 'bestaudio/best',\n",
        "  #    'outtmpl': 'output.%(ext)s',\n",
        "      'postprocessors': [{\n",
        "          'key': 'FFmpegExtractAudio',\n",
        "          'preferredcodec': 'wav',\n",
        "      }],\n",
        "      \"outtmpl\": f'youtubeaudio/{AUDIO_NAME}',  # this is where you can edit how you'd like the filenames to be formatted\n",
        "  }\n",
        "  def download_from_url(url):\n",
        "      ydl.download([url])\n",
        "      # stream = ffmpeg.input('output.m4a')\n",
        "      # stream = ffmpeg.output(stream, 'output.wav')\n",
        "\n",
        "\n",
        "  with yt_dlp.YoutubeDL(ydl_opts) as ydl:\n",
        "\n",
        "        download_from_url(url)"
      ],
      "metadata": {
        "cellView": "form",
        "id": "iHLrV7MPsPOg"
      },
      "execution_count": null,
      "outputs": []
    }
  ]
}