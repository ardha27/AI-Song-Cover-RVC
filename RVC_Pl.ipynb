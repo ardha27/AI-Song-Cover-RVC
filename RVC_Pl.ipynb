{
  "cells": [
    {
      "cell_type": "markdown",
      "metadata": {
        "id": "view-in-github",
        "colab_type": "text"
      },
      "source": [
        "<a href=\"https://colab.research.google.com/github/Blane187/RVC_Pl/blob/main/RVC_Pl.ipynb\" target=\"_parent\"><img src=\"https://colab.research.google.com/assets/colab-badge.svg\" alt=\"Open In Colab\"/></a>"
      ]
    },
    {
      "cell_type": "markdown",
      "source": [
        "\n",
        "# RVC_Pl\n",
        "\n",
        "\n",
        "original by: [Rejekts](https://github.com/RejektsAI)\n",
        "\n",
        "recode by:[Blane](https://github.com/Blane187)"
      ],
      "metadata": {
        "id": "zOyWyP5UaD3q"
      }
    },
    {
      "cell_type": "code",
      "source": [
        "\n",
        "#@title install\n",
        "\n",
        "backup_to_drive = False  #@param {type:\"boolean\"}\n",
        "\n",
        "import os\n",
        "import shutil\n",
        "from IPython.display import clear_output\n",
        "\n",
        "\n",
        "if backup_to_drive:\n",
        "\n",
        "\n",
        "    # Mount Google Drive\n",
        "    from google.colab import drive\n",
        "    drive.mount('/content/drive')\n",
        "\n",
        "    # Define path to the folder/directory you want to save\n",
        "    folder_path = '/content/RVC'\n",
        "    # Define path to save in Google Drive\n",
        "    drive_path = '/content/drive/MyDrive/RVC'\n",
        "\n",
        "    # Check if the directory already exists in Google Drive\n",
        "    if not os.path.exists(drive_path):\n",
        "        # If not, clone the repository\n",
        "        !git clone https://github.com/Djekz/RVC_Pl.git RVC\n",
        "\n",
        "        # Copy folder to Google Drive\n",
        "        shutil.copytree(folder_path, drive_path)\n",
        "\n",
        "    %cd /content/drive/MyDrive/RVC\n",
        "    !pip install -r requirements.txt\n",
        "    clear_output()\n",
        "else:\n",
        "\n",
        "    # Define path to save in Google Drive\n",
        "    drive_path = '/content/drive/MyDrive/RVC'\n",
        "\n",
        "    # Check if the directory already exists in Google Drive\n",
        "    if not os.path.exists(drive_path):\n",
        "        !git clone https://github.com/Djekz/RVC_Pl.git RVC\n",
        "\n",
        "    %cd RVC\n",
        "    !pip install -r requirements.txt\n",
        "    clear_output()"
      ],
      "metadata": {
        "id": "k0C55zP-Qejm",
        "cellView": "form"
      },
      "execution_count": null,
      "outputs": []
    },
    {
      "cell_type": "code",
      "source": [
        "\n",
        "#@title run the webui\n",
        "\n",
        "\n",
        "!python app.py --colab"
      ],
      "metadata": {
        "id": "98byHcHoRa92",
        "cellView": "form"
      },
      "execution_count": null,
      "outputs": []
    }
  ],
  "metadata": {
    "accelerator": "GPU",
    "colab": {
      "private_outputs": true,
      "provenance": [],
      "include_colab_link": true
    },
    "gpuClass": "standard",
    "kernelspec": {
      "display_name": "Python 3",
      "name": "python3"
    },
    "language_info": {
      "name": "python"
    }
  },
  "nbformat": 4,
  "nbformat_minor": 0
}